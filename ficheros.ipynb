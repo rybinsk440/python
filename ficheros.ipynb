{
 "cells": [
  {
   "cell_type": "markdown",
   "id": "056cd6c2-c04a-465c-9105-319e68295ab1",
   "metadata": {},
   "source": [
    "### gestion de ficheros con python"
   ]
  },
  {
   "cell_type": "code",
   "execution_count": null,
   "id": "c0e4afdd-ae0e-4790-a43c-c617b8a9d48a",
   "metadata": {},
   "outputs": [],
   "source": []
  },
  {
   "cell_type": "code",
   "execution_count": 2,
   "id": "6ae0248a-8921-42bb-bf49-be363440e9ee",
   "metadata": {
    "tags": []
   },
   "outputs": [
    {
     "name": "stdout",
     "output_type": "stream",
     "text": [
      "assd\n",
      "sadsdas\n"
     ]
    }
   ],
   "source": [
    "f = open(\"texto.txt\", encoding=\"utf-8\")\n",
    "texto = f.read()\n",
    "print(texto)\n",
    "f.close()"
   ]
  },
  {
   "cell_type": "code",
   "execution_count": null,
   "id": "1b287508-f5af-4410-b1a4-cbbf3d53080b",
   "metadata": {},
   "outputs": [],
   "source": []
  },
  {
   "cell_type": "code",
   "execution_count": null,
   "id": "cfe14e77-a22e-4069-918a-eb520dcc0843",
   "metadata": {},
   "outputs": [],
   "source": []
  }
 ],
 "metadata": {
  "kernelspec": {
   "display_name": "Python 3",
   "language": "python",
   "name": "python3"
  },
  "language_info": {
   "codemirror_mode": {
    "name": "ipython",
    "version": 3
   },
   "file_extension": ".py",
   "mimetype": "text/x-python",
   "name": "python",
   "nbconvert_exporter": "python",
   "pygments_lexer": "ipython3",
   "version": "3.9.4"
  }
 },
 "nbformat": 4,
 "nbformat_minor": 5
}
