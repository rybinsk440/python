


f = open("texto.txt", encoding="utf-8")
texto = f.read()
print(texto)
f.close()






