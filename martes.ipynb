{
 "cells": [
  {
   "cell_type": "code",
   "execution_count": 1,
   "id": "ea7a9de0-a967-41e1-afe9-9c26acee37f7",
   "metadata": {},
   "outputs": [],
   "source": [
    "X=5"
   ]
  },
  {
   "cell_type": "code",
   "execution_count": 2,
   "id": "8bac183b-c3c3-4e94-9164-79457792ef14",
   "metadata": {},
   "outputs": [
    {
     "data": {
      "text/plain": [
       "'holel'"
      ]
     },
     "execution_count": 2,
     "metadata": {},
     "output_type": "execute_result"
    }
   ],
   "source": [
    "\"holel\""
   ]
  },
  {
   "cell_type": "code",
   "execution_count": 3,
   "id": "c16d1f96-3853-4400-9d72-ea63d783cfb0",
   "metadata": {},
   "outputs": [],
   "source": [
    "c=\"  hola   \"\n"
   ]
  },
  {
   "cell_type": "code",
   "execution_count": 1,
   "id": "48a292bf-20c0-4628-b222-2948b2f5b6ce",
   "metadata": {},
   "outputs": [
    {
     "data": {
      "text/plain": [
       "('h', 'o', 'l', 'a')"
      ]
     },
     "execution_count": 1,
     "metadata": {},
     "output_type": "execute_result"
    }
   ],
   "source": [
    "tuple(\"hola\")"
   ]
  },
  {
   "cell_type": "code",
   "execution_count": 2,
   "id": "e58e480d-f186-4017-ad6d-bd1f6c329f95",
   "metadata": {},
   "outputs": [],
   "source": [
    "d={\"hola\":\"saludo\",\n",
    "  \"Adiós\":\"despedida\"}"
   ]
  },
  {
   "cell_type": "markdown",
   "id": "4586740d-eedf-4e01-83aa-2f56526a2595",
   "metadata": {},
   "source": [
    "diccionario"
   ]
  },
  {
   "cell_type": "code",
   "execution_count": 3,
   "id": "444f12eb-1f7f-4511-817d-705b47f29437",
   "metadata": {},
   "outputs": [],
   "source": [
    "d[\"Abelardo\"]=\"de ITT\""
   ]
  },
  {
   "cell_type": "code",
   "execution_count": 4,
   "id": "c61920cc-ee35-4349-9fa0-2fcd7842e467",
   "metadata": {},
   "outputs": [
    {
     "data": {
      "text/plain": [
       "{'hola': 'saludo', 'Adiós': 'despedida', 'Abelardo': 'de ITT'}"
      ]
     },
     "execution_count": 4,
     "metadata": {},
     "output_type": "execute_result"
    }
   ],
   "source": [
    "d"
   ]
  },
  {
   "cell_type": "code",
   "execution_count": 5,
   "id": "8b539c89-dc8d-4828-8be5-8b3962d61544",
   "metadata": {},
   "outputs": [],
   "source": [
    "#conjuntos"
   ]
  },
  {
   "cell_type": "code",
   "execution_count": 6,
   "id": "2a586508-98f6-4dba-92c8-f3207948d91e",
   "metadata": {},
   "outputs": [],
   "source": [
    "conjunt0 = set([1,2,3,4,2,3,4])"
   ]
  },
  {
   "cell_type": "code",
   "execution_count": 7,
   "id": "30f7d797-55ce-4929-be5a-41d958760437",
   "metadata": {},
   "outputs": [
    {
     "data": {
      "text/plain": [
       "{1, 2, 3, 4}"
      ]
     },
     "execution_count": 7,
     "metadata": {},
     "output_type": "execute_result"
    }
   ],
   "source": [
    "conjunt0"
   ]
  },
  {
   "cell_type": "code",
   "execution_count": 8,
   "id": "787c898a-f77d-45c5-9645-885ca90f9269",
   "metadata": {},
   "outputs": [
    {
     "ename": "NameError",
     "evalue": "name 'c' is not defined",
     "output_type": "error",
     "traceback": [
      "\u001b[1;31m---------------------------------------------------------------------------\u001b[0m",
      "\u001b[1;31mNameError\u001b[0m                                 Traceback (most recent call last)",
      "\u001b[1;32m<ipython-input-8-2b66fd261ee5>\u001b[0m in \u001b[0;36m<module>\u001b[1;34m\u001b[0m\n\u001b[1;32m----> 1\u001b[1;33m \u001b[0mc\u001b[0m\u001b[1;33m\u001b[0m\u001b[1;33m\u001b[0m\u001b[0m\n\u001b[0m",
      "\u001b[1;31mNameError\u001b[0m: name 'c' is not defined"
     ]
    }
   ],
   "source": [
    "c\n"
   ]
  },
  {
   "cell_type": "code",
   "execution_count": 9,
   "id": "9c556cd0-26e0-490b-adff-219227ade2f3",
   "metadata": {},
   "outputs": [],
   "source": [
    "c=\"una vaca pastando en el valle\""
   ]
  },
  {
   "cell_type": "code",
   "execution_count": 10,
   "id": "9a4977a3-c437-4e7c-8899-de47c53b96f7",
   "metadata": {},
   "outputs": [
    {
     "data": {
      "text/plain": [
       "{' ', 'a', 'c', 'd', 'e', 'l', 'n', 'o', 'p', 's', 't', 'u', 'v'}"
      ]
     },
     "execution_count": 10,
     "metadata": {},
     "output_type": "execute_result"
    }
   ],
   "source": [
    "set(c)"
   ]
  },
  {
   "cell_type": "code",
   "execution_count": 11,
   "id": "44cbd0aa-c9e7-447e-91ae-500ca5023772",
   "metadata": {},
   "outputs": [
    {
     "data": {
      "text/plain": [
       "13"
      ]
     },
     "execution_count": 11,
     "metadata": {},
     "output_type": "execute_result"
    }
   ],
   "source": [
    "len(set(c))"
   ]
  },
  {
   "cell_type": "code",
   "execution_count": 12,
   "id": "e7d2dea9-5f28-45a9-b32a-6fb29aebf689",
   "metadata": {},
   "outputs": [],
   "source": [
    "conjunt0.add(\"B\")"
   ]
  },
  {
   "cell_type": "code",
   "execution_count": 13,
   "id": "a5826049-7dd9-4cea-ac24-8d039e4e5457",
   "metadata": {},
   "outputs": [
    {
     "data": {
      "text/plain": [
       "{1, 2, 3, 4, 'B'}"
      ]
     },
     "execution_count": 13,
     "metadata": {},
     "output_type": "execute_result"
    }
   ],
   "source": [
    "conjunt0"
   ]
  },
  {
   "cell_type": "code",
   "execution_count": null,
   "id": "051673ac-af0d-4256-b202-9de5e5b63467",
   "metadata": {},
   "outputs": [],
   "source": []
  }
 ],
 "metadata": {
  "kernelspec": {
   "display_name": "Python 3",
   "language": "python",
   "name": "python3"
  },
  "language_info": {
   "codemirror_mode": {
    "name": "ipython",
    "version": 3
   },
   "file_extension": ".py",
   "mimetype": "text/x-python",
   "name": "python",
   "nbconvert_exporter": "python",
   "pygments_lexer": "ipython3",
   "version": "3.9.4"
  }
 },
 "nbformat": 4,
 "nbformat_minor": 5
}
